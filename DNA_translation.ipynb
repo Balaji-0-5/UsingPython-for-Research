{
  "nbformat": 4,
  "nbformat_minor": 0,
  "metadata": {
    "colab": {
      "provenance": [],
      "authorship_tag": "ABX9TyMHE6FW1Ia61R2MqlEgD2qC",
      "include_colab_link": true
    },
    "kernelspec": {
      "name": "python3",
      "display_name": "Python 3"
    },
    "language_info": {
      "name": "python"
    }
  },
  "cells": [
    {
      "cell_type": "markdown",
      "metadata": {
        "id": "view-in-github",
        "colab_type": "text"
      },
      "source": [
        "<a href=\"https://colab.research.google.com/github/Balaji-0-5/Python/blob/main/DNA_translation_project.ipynb\" target=\"_parent\"><img src=\"https://colab.research.google.com/assets/colab-badge.svg\" alt=\"Open In Colab\"/></a>"
      ]
    },
    {
      "cell_type": "markdown",
      "source": [
        "Before running the program in Google Colab, make sure to upload the DNA and protein text file in the\n",
        "session storage.\n",
        "\n",
        "Download the data from : https://www.ncbi.nlm.nih.gov/"
      ],
      "metadata": {
        "id": "Jruo7DkB4IDs"
      }
    },
    {
      "cell_type": "code",
      "source": [
        "def read_seq(inputfile):\n",
        "\n",
        "    \"\"\"Reads and returns the input sequence with special characters removed\"\"\"\n",
        "    \n",
        "    with open(inputfile, encoding ='utf-8') as f:\n",
        "        seq = f.read()\n",
        "    seq = seq.replace(\"\\n\",\"\")\n",
        "    seq = seq.replace(\"\\r\",\"\")\n",
        "    return seq"
      ],
      "metadata": {
        "id": "CElY-RCy59Je"
      },
      "execution_count": 1,
      "outputs": []
    },
    {
      "cell_type": "code",
      "source": [
        "def translate(seq):\n",
        "\n",
        "    \"\"\"Translate a string containing a nucleotide sequence into a string containing the \n",
        "    corresponding sequence of amino acids . Nucleotides are translated in triplets using\n",
        "     the table dictionary; each amino acid 4 is encoded with a string of length 1. \"\"\"\n",
        "\n",
        "    table = {\n",
        "        'ATA':'I', 'ATC':'I', 'ATT':'I', 'ATG':'M',\n",
        "        'ACA':'T', 'ACC':'T', 'ACG':'T', 'ACT':'T',\n",
        "        'AAC':'N', 'AAT':'N', 'AAA':'K', 'AAG':'K',\n",
        "        'AGC':'S', 'AGT':'S', 'AGA':'R', 'AGG':'R',\n",
        "        'CTA':'L', 'CTC':'L', 'CTG':'L', 'CTT':'L',\n",
        "        'CCA':'P', 'CCC':'P', 'CCG':'P', 'CCT':'P',\n",
        "        'CAC':'H', 'CAT':'H', 'CAA':'Q', 'CAG':'Q',\n",
        "        'CGA':'R', 'CGC':'R', 'CGG':'R', 'CGT':'R',\n",
        "        'GTA':'V', 'GTC':'V', 'GTG':'V', 'GTT':'V',\n",
        "        'GCA':'A', 'GCC':'A', 'GCG':'A', 'GCT':'A',\n",
        "        'GAC':'D', 'GAT':'D', 'GAA':'E', 'GAG':'E',\n",
        "        'GGA':'G', 'GGC':'G', 'GGG':'G', 'GGT':'G',\n",
        "        'TCA':'S', 'TCC':'S', 'TCG':'S', 'TCT':'S',\n",
        "        'TTC':'F', 'TTT':'F', 'TTA':'L', 'TTG':'L',\n",
        "        'TAC':'Y', 'TAT':'Y', 'TAA':'_', 'TAG':'_',\n",
        "        'TGC':'C', 'TGT':'C', 'TGA':'_', 'TGG':'W',\n",
        "    }\n",
        "\n",
        "    protein =\"\"\n",
        "    if len(seq)%3 == 0:\n",
        "        for i in range(0,len(seq),3):\n",
        "            codon = seq[i:i+3]\n",
        "            protein += table[codon]\n",
        "    \n",
        "    return protein"
      ],
      "metadata": {
        "id": "-ynFGWh-s3Ow"
      },
      "execution_count": 2,
      "outputs": []
    },
    {
      "cell_type": "code",
      "source": [
        "protein = read_seq(\"protein.txt.txt\")\n",
        "dna = read_seq(\"dna.txt.txt\")"
      ],
      "metadata": {
        "id": "NLktos1wvmZY"
      },
      "execution_count": 3,
      "outputs": []
    },
    {
      "cell_type": "markdown",
      "source": [
        "Running the DNA sequence directly into the translate function won't return any results because the length of the sequence is not divisible by 3. To find out the correect position (or indices) of teh sequence of DNA required for translation, check for the variable named CDS (Codon sequence) and note the index.\n",
        "\n",
        "In our example for NM_207618.2, the webpage shows  CDS             21..938\n",
        "\n",
        "This means that the sequence starts from 21 and ends at 938. But in python the index starts form zero. So while slicing the sequence we must use the index 20 to 938"
      ],
      "metadata": {
        "id": "HFvDXJau40ja"
      }
    },
    {
      "cell_type": "code",
      "source": [
        "codon_seq = translate(dna[20:938])\n",
        "codon_seq"
      ],
      "metadata": {
        "colab": {
          "base_uri": "https://localhost:8080/",
          "height": 70
        },
        "id": "x9FlVKZK4z1Q",
        "outputId": "98bad6e0-7595-4d4d-cf17-f1d8ff28a7cd"
      },
      "execution_count": 4,
      "outputs": [
        {
          "output_type": "execute_result",
          "data": {
            "text/plain": [
              "'MSTHDTSLKTTEEVAFQIILLCQFGVGTFANVFLFVYNFSPISTGSKQRPRQVILRHMAVANALTLFLTIFPNNMMTFAPIIPQTDLKCKLEFFTRLVARSTNLCSTCVLSIHQFVTLVPVNSGKGILRASVTNMASYSCYSCWFFSVLNNIYIPIKVTGPQLTDNNNNSKSKLFCSTSDFSVGIVFLRFAHDATFMSIMVWTSVSMVLLLHRHCQRMQYIFTLNQDPRGQAETTATHTILMLVVTFVGFYLLSLICIIFYTYFIYSHHSLRHCNDILVSGFPTISPLLLTFRDPKGPCSVFFNC_'"
            ],
            "application/vnd.google.colaboratory.intrinsic+json": {
              "type": "string"
            }
          },
          "metadata": {},
          "execution_count": 4
        }
      ]
    },
    {
      "cell_type": "code",
      "source": [
        "protein"
      ],
      "metadata": {
        "id": "Uvr1ISohvqMa",
        "colab": {
          "base_uri": "https://localhost:8080/",
          "height": 70
        },
        "outputId": "fae3f61d-8fd2-4ce6-ec30-62c077fb0a6a"
      },
      "execution_count": 5,
      "outputs": [
        {
          "output_type": "execute_result",
          "data": {
            "text/plain": [
              "'MSTHDTSLKTTEEVAFQIILLCQFGVGTFANVFLFVYNFSPISTGSKQRPRQVILRHMAVANALTLFLTIFPNNMMTFAPIIPQTDLKCKLEFFTRLVARSTNLCSTCVLSIHQFVTLVPVNSGKGILRASVTNMASYSCYSCWFFSVLNNIYIPIKVTGPQLTDNNNNSKSKLFCSTSDFSVGIVFLRFAHDATFMSIMVWTSVSMVLLLHRHCQRMQYIFTLNQDPRGQAETTATHTILMLVVTFVGFYLLSLICIIFYTYFIYSHHSLRHCNDILVSGFPTISPLLLTFRDPKGPCSVFFNC'"
            ],
            "application/vnd.google.colaboratory.intrinsic+json": {
              "type": "string"
            }
          },
          "metadata": {},
          "execution_count": 5
        }
      ]
    },
    {
      "cell_type": "markdown",
      "source": [
        "From the above codon sequences we can see that the translated sequence has an extra underscore '_' at the end of the sequence. This is because '_' represents the stop codon which is usually neglected in the website. \n",
        "So to get the correct seqence we remove the last 3 amino acids in the dna sequence while translation"
      ],
      "metadata": {
        "id": "tsNhmGrI77n6"
      }
    },
    {
      "cell_type": "code",
      "source": [
        "codon_seq = translate(dna[20:935])"
      ],
      "metadata": {
        "id": "0-rTeO8577Wc"
      },
      "execution_count": 6,
      "outputs": []
    },
    {
      "cell_type": "code",
      "source": [
        "codon_seq == protein"
      ],
      "metadata": {
        "colab": {
          "base_uri": "https://localhost:8080/"
        },
        "id": "KdNMil7b856E",
        "outputId": "f06dde06-513d-4f77-cc58-a897967a4971"
      },
      "execution_count": 7,
      "outputs": [
        {
          "output_type": "execute_result",
          "data": {
            "text/plain": [
              "True"
            ]
          },
          "metadata": {},
          "execution_count": 7
        }
      ]
    },
    {
      "cell_type": "code",
      "source": [],
      "metadata": {
        "id": "oGD3dnN9-yJh"
      },
      "execution_count": 7,
      "outputs": []
    }
  ]
}

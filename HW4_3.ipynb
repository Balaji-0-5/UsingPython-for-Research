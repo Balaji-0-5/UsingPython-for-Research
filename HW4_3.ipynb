{
  "cells": [
    {
      "cell_type": "markdown",
      "metadata": {
        "id": "view-in-github",
        "colab_type": "text"
      },
      "source": [
        "<a href=\"https://colab.research.google.com/github/Balaji-0-5/UsingPython-for-Research/blob/main/HW4_3.ipynb\" target=\"_parent\"><img src=\"https://colab.research.google.com/assets/colab-badge.svg\" alt=\"Open In Colab\"/></a>"
      ]
    },
    {
      "cell_type": "markdown",
      "metadata": {
        "id": "vEC79fVWF7Ff"
      },
      "source": [
        "# Using Python for Research Homework: Week 4, Case Study 3\n",
        "\n",
        "Homophily is a property of networks.  Homophily occurs when nodes that are neighbors in a network also share a characteristic more often than nodes that are not network neighbors.  In this case study, we will investigate homophily of several characteristics of individuals connected in social networks in rural India."
      ]
    },
    {
      "cell_type": "markdown",
      "metadata": {
        "id": "XvtoZXH1F7F2"
      },
      "source": [
        "### Exercise 1\n",
        "In Exercise 1, we will calculate the chance homophily for an arbitrary characteristic. Homophily is the proportion of edges in the network whose constituent nodes share that characteristic.\n",
        "\n",
        "How much homophily do we expect by chance? If characteristics are distributed completely randomly, the probability that two nodes \\(x\\) and \\(y\\) share characteristic \\(a\\) is the probability both nodes have characteristic \\(a\\) , which is the marginal probability of \\(a\\) squared. The total probability that nodes \\(x\\) and \\(y\\) share their characteristic is therefore the sum of the square of the marginal probabilities of each characteristic in the network.\n",
        "\n",
        "<strong>Instructions</strong>\n",
        "<ul><li>Create a function <code>marginal_prob</code> that takes a dictionary <code>chars</code> with personal IDs as keys and characteristics as values; it should return a dictionary with characteristics as keys and their marginal probability (frequency of occurence of a characteristic divided by the sum of frequencies of each characteristic) as values.</li>\n",
        "<li>Create a function <code>chance_homophily(chars)</code> that takes a dictionary <code>chars</code> defined as above and computes the chance homophily (homophily due to chance alone) for that characteristic.</li>\n",
        "<li>A sample of three peoples' favorite colors is given in <code>favorite_colors</code>. Use your function to compute the chance homophily in this group, and store it as <code>color_homophily</code>.</li>\n",
        "<li>Print <code>color_homophily</code>.</li></ul>"
      ]
    },
    {
      "cell_type": "code",
      "execution_count": null,
      "metadata": {
        "colab": {
          "base_uri": "https://localhost:8080/"
        },
        "id": "YklSJ2yuF7Gi",
        "outputId": "f2fa46ff-47c9-44a6-8be8-2aaad63d8ed8"
      },
      "outputs": [
        {
          "output_type": "stream",
          "name": "stdout",
          "text": [
            "0.5555555555555556\n"
          ]
        }
      ],
      "source": [
        "from collections import Counter\n",
        "import numpy as np\n",
        "\n",
        "def marginal_prob(chars):\n",
        "    #return {ch:  for i,ch in chars.items()}\n",
        "    pass\n",
        "    \n",
        "def chance_homophily(chars):\n",
        "    chars_counts_dict = Counter(chars.values())\n",
        "    chars_counts = np.array(list(chars_counts_dict.values()))\n",
        "    chars_props  = chars_counts / sum(chars_counts)\n",
        "    return sum(chars_props**2)\n",
        "\n",
        "favorite_colors = {\n",
        "    \"ankit\":  \"red\",\n",
        "    \"xiaoyu\": \"blue\",\n",
        "    \"mary\":   \"blue\"\n",
        "}\n",
        "\n",
        "color_homophily = chance_homophily(favorite_colors)\n",
        "print(color_homophily)"
      ]
    },
    {
      "cell_type": "markdown",
      "metadata": {
        "id": "ihm0zR93F7Gq"
      },
      "source": [
        "### Exercise 2\n",
        "\n",
        "In the remaining exercises, we will calculate actual homophily in these village and compare the obtained values to those obtained by chance. In this exercise, we subset the data into individual villages and store them.\n",
        "\n",
        "#### Instructions \n",
        "\n",
        "- `individual_characteristics.dta` contains several characteristics for each individual in the dataset such as age, religion, and caste. Use the `pandas` library to read in and store these characteristics as a dataframe called `df`.\n",
        "- Store separate datasets for individuals belonging to Villages 1 and 2 as `df1` and `df2`, respectively.\n",
        "- Note that some attributes may be missing for some individuals. In this case study, we will ignore rows of data where some column information is missing.\n",
        "- Use the head method to display the first few entries of `df1`."
      ]
    },
    {
      "cell_type": "code",
      "execution_count": null,
      "metadata": {
        "colab": {
          "base_uri": "https://localhost:8080/",
          "height": 421
        },
        "id": "kQ_Zb49eF7Gu",
        "outputId": "01bcbdc3-6ab6-4bff-860a-a19da8e0bc82"
      },
      "outputs": [
        {
          "output_type": "execute_result",
          "data": {
            "text/plain": [
              "   village  adjmatrix_key     pid  hhid  resp_id  resp_gend  \\\n",
              "0        1              5  100201  1002        1          1   \n",
              "1        1              6  100202  1002        2          2   \n",
              "2        1             23  100601  1006        1          1   \n",
              "3        1             24  100602  1006        2          2   \n",
              "4        1             27  100701  1007        1          1   \n",
              "\n",
              "                   resp_status  age  religion caste  ...       privategovt  \\\n",
              "0            Head of Household   38  HINDUISM   OBC  ...  PRIVATE BUSINESS   \n",
              "1  Spouse of Head of Household   27  HINDUISM   OBC  ...               NaN   \n",
              "2            Head of Household   29  HINDUISM   OBC  ...        OTHER LAND   \n",
              "3  Spouse of Head of Household   24  HINDUISM   OBC  ...  PRIVATE BUSINESS   \n",
              "4            Head of Household   58  HINDUISM   OBC  ...        OTHER LAND   \n",
              "\n",
              "  work_outside work_outside_freq shgparticipate shg_no savings savings_no  \\\n",
              "0          Yes               0.0             No    NaN      No        NaN   \n",
              "1          NaN               NaN             No    NaN      No        NaN   \n",
              "2           No               NaN             No    NaN      No        NaN   \n",
              "3           No               NaN            Yes    1.0     Yes        1.0   \n",
              "4           No               NaN             No    NaN      No        NaN   \n",
              "\n",
              "  electioncard rationcard rationcard_colour  \n",
              "0          Yes        Yes             GREEN  \n",
              "1          Yes        Yes             GREEN  \n",
              "2          Yes        Yes             GREEN  \n",
              "3          Yes         No               NaN  \n",
              "4          Yes        Yes             GREEN  \n",
              "\n",
              "[5 rows x 48 columns]"
            ],
            "text/html": [
              "\n",
              "  <div id=\"df-4eeb5e69-4b7d-46e7-acd8-75fe876beb44\">\n",
              "    <div class=\"colab-df-container\">\n",
              "      <div>\n",
              "<style scoped>\n",
              "    .dataframe tbody tr th:only-of-type {\n",
              "        vertical-align: middle;\n",
              "    }\n",
              "\n",
              "    .dataframe tbody tr th {\n",
              "        vertical-align: top;\n",
              "    }\n",
              "\n",
              "    .dataframe thead th {\n",
              "        text-align: right;\n",
              "    }\n",
              "</style>\n",
              "<table border=\"1\" class=\"dataframe\">\n",
              "  <thead>\n",
              "    <tr style=\"text-align: right;\">\n",
              "      <th></th>\n",
              "      <th>village</th>\n",
              "      <th>adjmatrix_key</th>\n",
              "      <th>pid</th>\n",
              "      <th>hhid</th>\n",
              "      <th>resp_id</th>\n",
              "      <th>resp_gend</th>\n",
              "      <th>resp_status</th>\n",
              "      <th>age</th>\n",
              "      <th>religion</th>\n",
              "      <th>caste</th>\n",
              "      <th>...</th>\n",
              "      <th>privategovt</th>\n",
              "      <th>work_outside</th>\n",
              "      <th>work_outside_freq</th>\n",
              "      <th>shgparticipate</th>\n",
              "      <th>shg_no</th>\n",
              "      <th>savings</th>\n",
              "      <th>savings_no</th>\n",
              "      <th>electioncard</th>\n",
              "      <th>rationcard</th>\n",
              "      <th>rationcard_colour</th>\n",
              "    </tr>\n",
              "  </thead>\n",
              "  <tbody>\n",
              "    <tr>\n",
              "      <th>0</th>\n",
              "      <td>1</td>\n",
              "      <td>5</td>\n",
              "      <td>100201</td>\n",
              "      <td>1002</td>\n",
              "      <td>1</td>\n",
              "      <td>1</td>\n",
              "      <td>Head of Household</td>\n",
              "      <td>38</td>\n",
              "      <td>HINDUISM</td>\n",
              "      <td>OBC</td>\n",
              "      <td>...</td>\n",
              "      <td>PRIVATE BUSINESS</td>\n",
              "      <td>Yes</td>\n",
              "      <td>0.0</td>\n",
              "      <td>No</td>\n",
              "      <td>NaN</td>\n",
              "      <td>No</td>\n",
              "      <td>NaN</td>\n",
              "      <td>Yes</td>\n",
              "      <td>Yes</td>\n",
              "      <td>GREEN</td>\n",
              "    </tr>\n",
              "    <tr>\n",
              "      <th>1</th>\n",
              "      <td>1</td>\n",
              "      <td>6</td>\n",
              "      <td>100202</td>\n",
              "      <td>1002</td>\n",
              "      <td>2</td>\n",
              "      <td>2</td>\n",
              "      <td>Spouse of Head of Household</td>\n",
              "      <td>27</td>\n",
              "      <td>HINDUISM</td>\n",
              "      <td>OBC</td>\n",
              "      <td>...</td>\n",
              "      <td>NaN</td>\n",
              "      <td>NaN</td>\n",
              "      <td>NaN</td>\n",
              "      <td>No</td>\n",
              "      <td>NaN</td>\n",
              "      <td>No</td>\n",
              "      <td>NaN</td>\n",
              "      <td>Yes</td>\n",
              "      <td>Yes</td>\n",
              "      <td>GREEN</td>\n",
              "    </tr>\n",
              "    <tr>\n",
              "      <th>2</th>\n",
              "      <td>1</td>\n",
              "      <td>23</td>\n",
              "      <td>100601</td>\n",
              "      <td>1006</td>\n",
              "      <td>1</td>\n",
              "      <td>1</td>\n",
              "      <td>Head of Household</td>\n",
              "      <td>29</td>\n",
              "      <td>HINDUISM</td>\n",
              "      <td>OBC</td>\n",
              "      <td>...</td>\n",
              "      <td>OTHER LAND</td>\n",
              "      <td>No</td>\n",
              "      <td>NaN</td>\n",
              "      <td>No</td>\n",
              "      <td>NaN</td>\n",
              "      <td>No</td>\n",
              "      <td>NaN</td>\n",
              "      <td>Yes</td>\n",
              "      <td>Yes</td>\n",
              "      <td>GREEN</td>\n",
              "    </tr>\n",
              "    <tr>\n",
              "      <th>3</th>\n",
              "      <td>1</td>\n",
              "      <td>24</td>\n",
              "      <td>100602</td>\n",
              "      <td>1006</td>\n",
              "      <td>2</td>\n",
              "      <td>2</td>\n",
              "      <td>Spouse of Head of Household</td>\n",
              "      <td>24</td>\n",
              "      <td>HINDUISM</td>\n",
              "      <td>OBC</td>\n",
              "      <td>...</td>\n",
              "      <td>PRIVATE BUSINESS</td>\n",
              "      <td>No</td>\n",
              "      <td>NaN</td>\n",
              "      <td>Yes</td>\n",
              "      <td>1.0</td>\n",
              "      <td>Yes</td>\n",
              "      <td>1.0</td>\n",
              "      <td>Yes</td>\n",
              "      <td>No</td>\n",
              "      <td>NaN</td>\n",
              "    </tr>\n",
              "    <tr>\n",
              "      <th>4</th>\n",
              "      <td>1</td>\n",
              "      <td>27</td>\n",
              "      <td>100701</td>\n",
              "      <td>1007</td>\n",
              "      <td>1</td>\n",
              "      <td>1</td>\n",
              "      <td>Head of Household</td>\n",
              "      <td>58</td>\n",
              "      <td>HINDUISM</td>\n",
              "      <td>OBC</td>\n",
              "      <td>...</td>\n",
              "      <td>OTHER LAND</td>\n",
              "      <td>No</td>\n",
              "      <td>NaN</td>\n",
              "      <td>No</td>\n",
              "      <td>NaN</td>\n",
              "      <td>No</td>\n",
              "      <td>NaN</td>\n",
              "      <td>Yes</td>\n",
              "      <td>Yes</td>\n",
              "      <td>GREEN</td>\n",
              "    </tr>\n",
              "  </tbody>\n",
              "</table>\n",
              "<p>5 rows × 48 columns</p>\n",
              "</div>\n",
              "      <button class=\"colab-df-convert\" onclick=\"convertToInteractive('df-4eeb5e69-4b7d-46e7-acd8-75fe876beb44')\"\n",
              "              title=\"Convert this dataframe to an interactive table.\"\n",
              "              style=\"display:none;\">\n",
              "        \n",
              "  <svg xmlns=\"http://www.w3.org/2000/svg\" height=\"24px\"viewBox=\"0 0 24 24\"\n",
              "       width=\"24px\">\n",
              "    <path d=\"M0 0h24v24H0V0z\" fill=\"none\"/>\n",
              "    <path d=\"M18.56 5.44l.94 2.06.94-2.06 2.06-.94-2.06-.94-.94-2.06-.94 2.06-2.06.94zm-11 1L8.5 8.5l.94-2.06 2.06-.94-2.06-.94L8.5 2.5l-.94 2.06-2.06.94zm10 10l.94 2.06.94-2.06 2.06-.94-2.06-.94-.94-2.06-.94 2.06-2.06.94z\"/><path d=\"M17.41 7.96l-1.37-1.37c-.4-.4-.92-.59-1.43-.59-.52 0-1.04.2-1.43.59L10.3 9.45l-7.72 7.72c-.78.78-.78 2.05 0 2.83L4 21.41c.39.39.9.59 1.41.59.51 0 1.02-.2 1.41-.59l7.78-7.78 2.81-2.81c.8-.78.8-2.07 0-2.86zM5.41 20L4 18.59l7.72-7.72 1.47 1.35L5.41 20z\"/>\n",
              "  </svg>\n",
              "      </button>\n",
              "      \n",
              "  <style>\n",
              "    .colab-df-container {\n",
              "      display:flex;\n",
              "      flex-wrap:wrap;\n",
              "      gap: 12px;\n",
              "    }\n",
              "\n",
              "    .colab-df-convert {\n",
              "      background-color: #E8F0FE;\n",
              "      border: none;\n",
              "      border-radius: 50%;\n",
              "      cursor: pointer;\n",
              "      display: none;\n",
              "      fill: #1967D2;\n",
              "      height: 32px;\n",
              "      padding: 0 0 0 0;\n",
              "      width: 32px;\n",
              "    }\n",
              "\n",
              "    .colab-df-convert:hover {\n",
              "      background-color: #E2EBFA;\n",
              "      box-shadow: 0px 1px 2px rgba(60, 64, 67, 0.3), 0px 1px 3px 1px rgba(60, 64, 67, 0.15);\n",
              "      fill: #174EA6;\n",
              "    }\n",
              "\n",
              "    [theme=dark] .colab-df-convert {\n",
              "      background-color: #3B4455;\n",
              "      fill: #D2E3FC;\n",
              "    }\n",
              "\n",
              "    [theme=dark] .colab-df-convert:hover {\n",
              "      background-color: #434B5C;\n",
              "      box-shadow: 0px 1px 3px 1px rgba(0, 0, 0, 0.15);\n",
              "      filter: drop-shadow(0px 1px 2px rgba(0, 0, 0, 0.3));\n",
              "      fill: #FFFFFF;\n",
              "    }\n",
              "  </style>\n",
              "\n",
              "      <script>\n",
              "        const buttonEl =\n",
              "          document.querySelector('#df-4eeb5e69-4b7d-46e7-acd8-75fe876beb44 button.colab-df-convert');\n",
              "        buttonEl.style.display =\n",
              "          google.colab.kernel.accessAllowed ? 'block' : 'none';\n",
              "\n",
              "        async function convertToInteractive(key) {\n",
              "          const element = document.querySelector('#df-4eeb5e69-4b7d-46e7-acd8-75fe876beb44');\n",
              "          const dataTable =\n",
              "            await google.colab.kernel.invokeFunction('convertToInteractive',\n",
              "                                                     [key], {});\n",
              "          if (!dataTable) return;\n",
              "\n",
              "          const docLinkHtml = 'Like what you see? Visit the ' +\n",
              "            '<a target=\"_blank\" href=https://colab.research.google.com/notebooks/data_table.ipynb>data table notebook</a>'\n",
              "            + ' to learn more about interactive tables.';\n",
              "          element.innerHTML = '';\n",
              "          dataTable['output_type'] = 'display_data';\n",
              "          await google.colab.output.renderOutput(dataTable, element);\n",
              "          const docLink = document.createElement('div');\n",
              "          docLink.innerHTML = docLinkHtml;\n",
              "          element.appendChild(docLink);\n",
              "        }\n",
              "      </script>\n",
              "    </div>\n",
              "  </div>\n",
              "  "
            ]
          },
          "metadata": {},
          "execution_count": 7
        }
      ],
      "source": [
        "import pandas as pd\n",
        "\n",
        "df  = pd.read_csv(\"https://courses.edx.org/asset-v1:HarvardX+PH526x+2T2019+type@asset+block@individual_characteristics.csv\", low_memory=False, index_col=0)\n",
        "df1 = df[(df['village']==1)]\n",
        "df2 = df[(df['village']==2)]\n",
        "\n",
        "df1.head()"
      ]
    },
    {
      "cell_type": "markdown",
      "metadata": {
        "id": "3SmqoVKwF7Gw"
      },
      "source": [
        "### Exercise 3 \n",
        "\n",
        "In this exercise, we define a few dictionaries that enable us to look up the sex, caste, and religion of members of each village by personal ID. For Villages 1 and 2, their personal IDs are stored as `pid`.\n",
        "\n",
        "#### Instructions \n",
        "- Define dictionaries with personal IDs as keys and a given covariate for that individual as values. Complete this for the sex, caste, and religion covariates, for Villages 1 and 2.\n",
        "- For Village 1, store these dictionaries into variables named `sex1`, `caste1`, and `religion1`.\n",
        "- For Village 2, store these dictionaries into variables named `sex2`, `caste2`, and `religion2`."
      ]
    },
    {
      "cell_type": "code",
      "execution_count": null,
      "metadata": {
        "colab": {
          "base_uri": "https://localhost:8080/",
          "height": 35
        },
        "id": "9xBhgLmkF7Gy",
        "outputId": "15a5cb7a-5251-469f-8638-f7b6684f60c8"
      },
      "outputs": [
        {
          "output_type": "execute_result",
          "data": {
            "text/plain": [
              "'OBC'"
            ],
            "application/vnd.google.colaboratory.intrinsic+json": {
              "type": "string"
            }
          },
          "metadata": {},
          "execution_count": 35
        }
      ],
      "source": [
        "sex1      = {df1.pid[i]:df1.resp_gend[i] for i in df1.index}\n",
        "caste1    = {df1.pid[i]:df1.caste[i] for i in df1.index}\n",
        "religion1 = {df1.pid[i]:df1.religion[i] for i in df1.index}\n",
        "\n",
        "sex2      = {df2.pid[i]:df2.resp_gend[i] for i in df2.index}\n",
        "caste2    = {df2.pid[i]:df2.caste[i] for i in df2.index}\n",
        "religion2 = {df2.pid[i]:df2.religion[i] for i in df2.index}\n",
        "\n",
        "caste2[202802]"
      ]
    },
    {
      "cell_type": "markdown",
      "metadata": {
        "id": "NRJ_IegGF7G0"
      },
      "source": [
        "### Exercise 4\n",
        "\n",
        "In this exercise, we will print the chance homophily of several characteristics of Villages 1 and 2. \n",
        "\n",
        "#### Instructions \n",
        "-  Use `chance_homophily` to compute the chance homophily for sex, caste, and religion In Villages 1 and 2. Is the chance homophily for any attribute very high for either village?"
      ]
    },
    {
      "cell_type": "code",
      "execution_count": null,
      "metadata": {
        "colab": {
          "base_uri": "https://localhost:8080/"
        },
        "id": "nlOvdjjvF7G2",
        "outputId": "93e15af0-b096-4f6d-a740-ab65ac3f8b09"
      },
      "outputs": [
        {
          "output_type": "stream",
          "name": "stdout",
          "text": [
            "0.5027299861680701\n",
            "0.5005945303210464\n",
            "0.6741488509791551\n",
            "0.425368244800893\n",
            "0.9804896988521925\n",
            "1.0\n"
          ]
        }
      ],
      "source": [
        "print(chance_homophily(sex1))\n",
        "print(chance_homophily(sex2))\n",
        "print(chance_homophily(caste1))\n",
        "print(chance_homophily(caste2))\n",
        "print(chance_homophily(religion1))\n",
        "print(chance_homophily(religion2))\n",
        "\n"
      ]
    },
    {
      "cell_type": "markdown",
      "metadata": {
        "id": "YKhjdqz1F7G4"
      },
      "source": [
        "### Exercise 5\n",
        "\n",
        "In this exercise, we will create a function that computes the observed homophily given a village and characteristic.\n",
        "\n",
        "#### Instructions \n",
        "- Complete the function `homophily()`, which takes a network `G`, a dictionary of node characteristics `chars`, and node IDs `IDs`. For each node pair, determine whether a tie exists between them, as well as whether they share a characteristic. The total count of these is `num_ties` and `num_same_ties`, respectively, and their ratio is the homophily of chars in `G`. Complete the function by choosing where to increment `num_same_ties` and `num_ties`."
      ]
    },
    {
      "cell_type": "code",
      "execution_count": null,
      "metadata": {
        "id": "q5DJIskeF7HF"
      },
      "outputs": [],
      "source": [
        "def homophily(G, chars, IDs):\n",
        "    \"\"\"\n",
        "    Given a network G, a dict of characteristics chars for node IDs,\n",
        "    and dict of node IDs for each node in the network,\n",
        "    find the homophily of the network.\n",
        "    \"\"\"\n",
        "    num_same_ties = 0\n",
        "    num_ties = 0\n",
        "    for n1, n2 in G.edges():\n",
        "        if IDs[n1] in chars and IDs[n2] in chars:\n",
        "            if G.has_edge(n1, n2):\n",
        "                # Should `num_ties` be incremented?  What about `num_same_ties`?\n",
        "                num_ties+=1\n",
        "\n",
        "                if chars[IDs[n1]] == chars[IDs[n2]]:\n",
        "                    # Should `num_ties` be incremented?  What about `num_same_ties`?\n",
        "                    num_same_ties+=1\n",
        "    return (num_same_ties / num_ties)    "
      ]
    },
    {
      "cell_type": "markdown",
      "metadata": {
        "id": "MFSS9xp7F7HI"
      },
      "source": [
        "### Exercise 6\n",
        "\n",
        "In this exercise, we will obtain the personal IDs for Villages 1 and 2. These will be used in the next exercise to calculate homophily for these villages.\n",
        "\n",
        "#### Instructions \n",
        "- In this dataset, each individual has a personal ID, or PID, stored in `key_vilno_1.csv` and `key_vilno_2.csv` for villages 1 and 2, respectively. `data_filepath1` and `data_filepath2` contain the URLs to the datasets used in this exercise. Use `pd.read_csv` to read in and store `key_vilno_1.csv` and `key_vilno_2.csv` as `pid1` and `pid2` respectively. "
      ]
    },
    {
      "cell_type": "code",
      "execution_count": null,
      "metadata": {
        "colab": {
          "base_uri": "https://localhost:8080/"
        },
        "id": "UZ7Iffb0F7HK",
        "outputId": "66ea7e1b-66fd-4279-9a53-99d163666686"
      },
      "outputs": [
        {
          "output_type": "execute_result",
          "data": {
            "text/plain": [
              "0    102205\n",
              "Name: 100, dtype: int64"
            ]
          },
          "metadata": {},
          "execution_count": 40
        }
      ],
      "source": [
        "data_filepath1 = \"https://courses.edx.org/asset-v1:HarvardX+PH526x+2T2019+type@asset+block@key_vilno_1.csv\"\n",
        "data_filepath2 = \"https://courses.edx.org/asset-v1:HarvardX+PH526x+2T2019+type@asset+block@key_vilno_2.csv\"\n",
        "\n",
        "pid1 = pd.read_csv(data_filepath1,index_col=0)\n",
        "pid2 = pd.read_csv(data_filepath2,index_col=0)\n",
        "pid1.iloc[100]"
      ]
    },
    {
      "cell_type": "markdown",
      "metadata": {
        "id": "scK5dOLYF7HO"
      },
      "source": [
        "### Exercise 7\n",
        "\n",
        "In this exercise, we will compute the homophily of several network characteristics for Villages 1 and 2 and compare them to homophily due to chance alone. The networks for these villages have been stored as networkx graph objects `G1` and `G2`.\n",
        "\n",
        "#### Instructions \n",
        "\n",
        "- Use your `homophily()` function to compute the observed homophily for sex, caste, and religion in Villages 1 and 2. Print all six values.\n",
        "- Use the `chance_homophily()` to compare these values to chance homophily. Are these values higher or lower than that expected by chance?"
      ]
    },
    {
      "cell_type": "code",
      "execution_count": null,
      "metadata": {
        "colab": {
          "base_uri": "https://localhost:8080/"
        },
        "id": "k6Sjf8uoF7HP",
        "outputId": "133f43d4-1b56-4b41-86c8-efde1b79f8ee"
      },
      "outputs": [
        {
          "output_type": "stream",
          "name": "stdout",
          "text": [
            "0.5908629441624366\n",
            "0.5027299861680701\n",
            "\n",
            "0.7959390862944162\n",
            "0.6741488509791551\n",
            "\n",
            "0.9908629441624366\n",
            "0.9804896988521925\n",
            "\n",
            "0.5658073270013568\n",
            "0.5005945303210464\n",
            "\n",
            "0.8276797829036635\n",
            "0.425368244800893\n",
            "\n",
            "1.0\n",
            "1.0\n"
          ]
        }
      ],
      "source": [
        "import networkx as nx\n",
        "A1 = np.array(pd.read_csv(\"https://courses.edx.org/asset-v1:HarvardX+PH526x+2T2019+type@asset+block@adj_allVillageRelationships_vilno1.csv\", index_col=0))\n",
        "A2 = np.array(pd.read_csv(\"https://courses.edx.org/asset-v1:HarvardX+PH526x+2T2019+type@asset+block@adj_allVillageRelationships_vilno2.csv\", index_col=0))\n",
        "G1 = nx.to_networkx_graph(A1)\n",
        "G2 = nx.to_networkx_graph(A2)\n",
        "\n",
        "pid1 = pd.read_csv(data_filepath1, dtype=int)['0'].to_dict()\n",
        "pid2 = pd.read_csv(data_filepath2, dtype=int)['0'].to_dict()\n",
        "\n",
        "print(homophily(G1,sex1,pid1))\n",
        "print(chance_homophily(sex1))\n",
        "print()\n",
        "print(homophily(G1,caste1,pid1))\n",
        "print(chance_homophily(caste1))\n",
        "print()\n",
        "print(homophily(G1,religion1,pid1))\n",
        "print(chance_homophily(religion1))\n",
        "print()\n",
        "print(homophily(G2,sex2,pid2))\n",
        "print(chance_homophily(sex2))\n",
        "print()\n",
        "print(homophily(G2,caste2,pid2))\n",
        "print(chance_homophily(caste2))\n",
        "print()\n",
        "print(homophily(G2,religion2,pid2))\n",
        "print(chance_homophily(religion2))\n"
      ]
    }
  ],
  "metadata": {
    "kernelspec": {
      "display_name": "Python 3",
      "language": "python",
      "name": "python3"
    },
    "language_info": {
      "codemirror_mode": {
        "name": "ipython",
        "version": 3
      },
      "file_extension": ".py",
      "mimetype": "text/x-python",
      "name": "python",
      "nbconvert_exporter": "python",
      "pygments_lexer": "ipython3",
      "version": "3.7.7"
    },
    "toc": {
      "base_numbering": 1,
      "nav_menu": {},
      "number_sections": false,
      "sideBar": true,
      "skip_h1_title": false,
      "title_cell": "Table of Contents",
      "title_sidebar": "Contents",
      "toc_cell": false,
      "toc_position": {},
      "toc_section_display": true,
      "toc_window_display": true
    },
    "colab": {
      "provenance": [],
      "include_colab_link": true
    }
  },
  "nbformat": 4,
  "nbformat_minor": 0
}